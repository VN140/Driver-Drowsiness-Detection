{
 "cells": [
  {
   "cell_type": "markdown",
   "id": "5941a8d2-bf56-4f6c-a53a-7d89a064d9be",
   "metadata": {},
   "source": [
    "Set Environment"
   ]
  },
  {
   "cell_type": "code",
<<<<<<< HEAD
   "execution_count": 60,
=======
   "execution_count": 1,
>>>>>>> f38ddfbffcbadfad4655937d94d7f85ae47c633b
   "id": "e452c782-0afb-4643-8964-0f4093695afc",
   "metadata": {},
   "outputs": [],
   "source": [
    "import numpy as np\n",
    "import matplotlib.pyplot as plt\n",
    "import os\n",
    "\n",
    "import torch\n",
    "from torch import nn\n",
    "from torch.utils.data import Dataset, DataLoader, random_split\n",
    "from torchvision import datasets\n",
    "from torchvision.transforms import v2\n",
    "from torchvision.datasets import ImageFolder\n",
    "from torch.utils.data import Subset\n",
<<<<<<< HEAD
    "import torch.nn.functional as F\n",
=======
>>>>>>> f38ddfbffcbadfad4655937d94d7f85ae47c633b
    "\n",
    "from torcheval.metrics.functional import multiclass_accuracy, multiclass_f1_score"
   ]
  },
  {
   "cell_type": "markdown",
   "id": "d68fcfef-ac76-488f-a7a1-4381f9b4d38a",
   "metadata": {},
   "source": [
    "Set Data Image"
   ]
  },
  {
   "cell_type": "code",
<<<<<<< HEAD
   "execution_count": 61,
=======
   "execution_count": 2,
>>>>>>> f38ddfbffcbadfad4655937d94d7f85ae47c633b
   "id": "97a8c108-15aa-4298-8621-cdd52821c4d0",
   "metadata": {},
   "outputs": [],
   "source": [
    "data_dir = './dataset'\n",
    "\n",
    "transform = v2.Compose([\n",
    "    v2.ToImage(),\n",
    "    v2.Resize((224, 224)),\n",
    "    v2.RandomHorizontalFlip(p=0.5),\n",
    "    v2.RandomRotation(10),\n",
    "    v2.ColorJitter(brightness=0.4, contrast=0.4, saturation=0.4, hue=0.2),\n",
    "    v2.RandomAffine(degrees=5, translate=(0.1, 0.1)),\n",
    "    v2.GaussianBlur(kernel_size=3, sigma=(0.1, 1.0)),\n",
    "    v2.ToDtype(torch.float32, scale=True),\n",
    "    v2.Normalize(mean=[0.485, 0.456, 0.406], std=[0.229, 0.224, 0.225])\n",
    "])\n",
    "\n",
    "dataset = ImageFolder(root=data_dir, transform=transform)"
   ]
  },
  {
   "cell_type": "code",
<<<<<<< HEAD
   "execution_count": 62,
=======
   "execution_count": 3,
>>>>>>> f38ddfbffcbadfad4655937d94d7f85ae47c633b
   "id": "a166c4fb-5f6e-45f8-83cb-319a56e2749e",
   "metadata": {},
   "outputs": [
    {
     "name": "stdout",
     "output_type": "stream",
     "text": [
      "Train set: 29256 samples\n",
      "Valid set: 8358 samples\n",
      "Test set: 4179 samples\n",
      "Classes: ['Drowsy', 'Non Drowsy']\n"
     ]
    }
   ],
   "source": [
    "train_ds, val_ds, test_ds = random_split(dataset, [0.7, 0.2, 0.1])\n",
    "\n",
    "print(f\"Train set: {len(train_ds)} samples\")\n",
    "print(f\"Valid set: {len(val_ds)} samples\")\n",
    "print(f\"Test set: {len(test_ds)} samples\")\n",
    "print(f\"Classes: {dataset.classes}\")"
   ]
  },
  {
   "cell_type": "code",
<<<<<<< HEAD
   "execution_count": 63,
=======
   "execution_count": 4,
>>>>>>> f38ddfbffcbadfad4655937d94d7f85ae47c633b
   "id": "93673085-d517-45f0-af42-b900e7681763",
   "metadata": {},
   "outputs": [],
   "source": [
    "subset_train = Subset(train_ds, range(1000))\n",
    "train_dl = DataLoader(subset_train, batch_size=128, shuffle=True, num_workers=4)\n",
    "subset_val = Subset(val_ds, range(1000))\n",
    "val_dl = DataLoader(subset_val, batch_size=128, shuffle=False)\n",
    "test_dl = DataLoader(test_ds, batch_size=128, shuffle=False)"
   ]
  },
  {
   "cell_type": "markdown",
   "id": "51b08cea-3810-4bd9-b6d6-315bc80803ad",
   "metadata": {},
   "source": [
    "Model Set Up"
   ]
  },
  {
   "cell_type": "code",
<<<<<<< HEAD
   "execution_count": 64,
   "id": "ef7e38be-40f8-4654-928b-6d095932feb9",
   "metadata": {},
   "outputs": [],
   "source": [
    "import torchvision.models as models\n",
    "from torchsummary import summary\n",
    "\n",
    "# model = models.resnet50(weights='IMAGENET1K_V2')\n",
    "\n",
    "# num_features = model.fc.in_features\n",
    "# model.fc = nn.Sequential(\n",
    "#     nn.Linear(num_features, 1024),\n",
    "#     nn.ReLU(),\n",
    "#     nn.Dropout(0.5),\n",
    "#     nn.Linear(1024, 512),\n",
    "#     nn.ReLU(),\n",
    "#     nn.Dropout(0.5),\n",
    "#     nn.Linear(512, 2)\n",
    "# )\n",
    "\n",
    "# device = torch.device(\"cuda\" if torch.cuda.is_available() else \"cpu\")\n",
    "# model = model.to(device)\n",
    "# summary(model, (3, 224, 224))\n",
    "\n",
    "class CustomCNN(nn.Module):\n",
    "    def __init__(self, input_channels):\n",
    "        super().__init__()\n",
    "        self.conv1 = nn.Conv2d(input_channels, 32, kernel_size=3, stride=1, padding=1)\n",
    "        self.pool = nn.MaxPool2d(kernel_size=2, stride=2)\n",
    "        self.conv2 = nn.Conv2d(32, 64, 3, padding=1)\n",
    "\n",
    "        with torch.no_grad():\n",
    "            dummy = torch.zeros(1, input_channels, 7, 7)\n",
    "            x = self.pool(F.relu(self.conv1(dummy)))\n",
    "            x = self.pool(F.relu(self.conv2(x)))\n",
    "            self.flattened_size = x.view(1, -1).shape[1]\n",
    "\n",
    "        self.fc1 = nn.Linear(self.flattened_size, 128)\n",
    "        self.fc2 = nn.Linear(128, 64)\n",
    "        self.fc3 = nn.Linear(64, 32)\n",
    "        self.fc4 = nn.Linear(32, 2)\n",
    "\n",
    "    def forward(self, x):\n",
    "        x = self.pool(F.relu(self.conv1(x)))\n",
    "        x = self.pool(F.relu(self.conv2(x)))\n",
    "        x = torch.flatten(x, 1)\n",
    "        x = F.relu(self.fc1(x))\n",
    "        x = F.relu(self.fc2(x))\n",
    "        x = F.relu(self.fc3(x))\n",
    "        return self.fc4(x)\n",
    "\n",
    "class ResNetplusCNN(nn.Module):\n",
    "    def __init__(self):\n",
    "        super().__init__()\n",
    "        resnet = models.resnet50(weights='IMAGENET1K_V2')\n",
    "        self.resnet_features = nn.Sequential(*list(resnet.children())[:-2])\n",
    "        self.custom_cnn = CustomCNN(input_channels=2048)\n",
=======
   "execution_count": 2,
   "id": "aafca700-dbce-439c-ae78-4b5e833d6dc6",
   "metadata": {},
   "outputs": [
    {
     "ename": "NameError",
     "evalue": "name 'nn' is not defined",
     "output_type": "error",
     "traceback": [
      "\u001b[1;31m---------------------------------------------------------------------------\u001b[0m",
      "\u001b[1;31mNameError\u001b[0m                                 Traceback (most recent call last)",
      "Cell \u001b[1;32mIn[2], line 1\u001b[0m\n\u001b[1;32m----> 1\u001b[0m \u001b[38;5;28;01mclass\u001b[39;00m \u001b[38;5;21;01mCustomCNN\u001b[39;00m(nn\u001b[38;5;241m.\u001b[39mModule):\n\u001b[0;32m      2\u001b[0m     \u001b[38;5;28;01mdef\u001b[39;00m \u001b[38;5;21m__init__\u001b[39m(\u001b[38;5;28mself\u001b[39m):\n\u001b[0;32m      3\u001b[0m         \u001b[38;5;28msuper\u001b[39m()\u001b[38;5;241m.\u001b[39m\u001b[38;5;21m__init__\u001b[39m()\n",
      "\u001b[1;31mNameError\u001b[0m: name 'nn' is not defined"
     ]
    }
   ],
   "source": [
    "import torchvision.models as models\n",
    "\n",
    "class CustomCNN(nn.Module):\n",
    "    def __init__(self):\n",
    "        super().__init__()\n",
    "        self.conv1 = nn.Conv2d(\n",
    "            in_channels=3, out_channels=32, \n",
    "            kernel_size=5, stride=1)\n",
    "        self.pool = nn.MaxPool2d(kernel_size=2, stride=2)\n",
    "        self.conv2 = nn.Conv2d(32, 64, 5)\n",
    "        self.fc1 = nn.Linear(64 * 5 * 5, 128)\n",
    "        self.fc2 = nn.Linear(128, 64)\n",
    "        self.fc3 = nn.Linear(64, 32)\n",
    "        self.fc4 = nn.Linear(32, 10)\n",
    "        \n",
    "    def forward(self, x):\n",
    "        out = self.pool(F.relu(self.conv1(x)))\n",
    "        out = self.pool(F.relu(self.conv2(out)))\n",
    "        out = torch.flatten(out, 1) # flatten all dimensions except batch\n",
    "        out = F.relu(self.fc1(out))\n",
    "        out = F.relu(self.fc2(out))\n",
    "        out = F.relu(self.fc3(out))\n",
    "        out = self.fc4(out)\n",
    "        return out\n",
    "\n",
    "class ResNetplusCNN(nn.Module):\n",
    "    def _init__(self):\n",
    "        super().__init()\n",
    "        resnet = models.resnet50(weights='IMAGENET1K_V2')\n",
    "        self.resnet_features = nn.Sequential(*list(resnet.children())[:-2])\n",
    "        self.custom_cnn = CustomCNN(input_chaneels=2048)\n",
>>>>>>> f38ddfbffcbadfad4655937d94d7f85ae47c633b
    "\n",
    "    def forward(self, x):\n",
    "        x = self.resnet_features(x)\n",
    "        x = self.custom_cnn(x)\n",
    "        return x"
   ]
  },
  {
   "cell_type": "code",
<<<<<<< HEAD
   "execution_count": 65,
   "id": "db548156",
   "metadata": {},
   "outputs": [],
   "source": [
    "device = torch.device(\"cuda\" if torch.cuda.is_available() else \"cpu\")\n",
    "model = ResNetplusCNN().to(device)"
=======
   "execution_count": 5,
   "id": "ef7e38be-40f8-4654-928b-6d095932feb9",
   "metadata": {
    "scrolled": true
   },
   "outputs": [
    {
     "name": "stdout",
     "output_type": "stream",
     "text": [
      "==========================================================================================\n",
      "Layer (type:depth-idx)                   Output Shape              Param #\n",
      "==========================================================================================\n",
      "├─Conv2d: 1-1                            [-1, 64, 112, 112]        9,408\n",
      "├─BatchNorm2d: 1-2                       [-1, 64, 112, 112]        128\n",
      "├─ReLU: 1-3                              [-1, 64, 112, 112]        --\n",
      "├─MaxPool2d: 1-4                         [-1, 64, 56, 56]          --\n",
      "├─Sequential: 1-5                        [-1, 256, 56, 56]         --\n",
      "|    └─Bottleneck: 2-1                   [-1, 256, 56, 56]         --\n",
      "|    |    └─Conv2d: 3-1                  [-1, 64, 56, 56]          4,096\n",
      "|    |    └─BatchNorm2d: 3-2             [-1, 64, 56, 56]          128\n",
      "|    |    └─ReLU: 3-3                    [-1, 64, 56, 56]          --\n",
      "|    |    └─Conv2d: 3-4                  [-1, 64, 56, 56]          36,864\n",
      "|    |    └─BatchNorm2d: 3-5             [-1, 64, 56, 56]          128\n",
      "|    |    └─ReLU: 3-6                    [-1, 64, 56, 56]          --\n",
      "|    |    └─Conv2d: 3-7                  [-1, 256, 56, 56]         16,384\n",
      "|    |    └─BatchNorm2d: 3-8             [-1, 256, 56, 56]         512\n",
      "|    |    └─Sequential: 3-9              [-1, 256, 56, 56]         16,896\n",
      "|    |    └─ReLU: 3-10                   [-1, 256, 56, 56]         --\n",
      "|    └─Bottleneck: 2-2                   [-1, 256, 56, 56]         --\n",
      "|    |    └─Conv2d: 3-11                 [-1, 64, 56, 56]          16,384\n",
      "|    |    └─BatchNorm2d: 3-12            [-1, 64, 56, 56]          128\n",
      "|    |    └─ReLU: 3-13                   [-1, 64, 56, 56]          --\n",
      "|    |    └─Conv2d: 3-14                 [-1, 64, 56, 56]          36,864\n",
      "|    |    └─BatchNorm2d: 3-15            [-1, 64, 56, 56]          128\n",
      "|    |    └─ReLU: 3-16                   [-1, 64, 56, 56]          --\n",
      "|    |    └─Conv2d: 3-17                 [-1, 256, 56, 56]         16,384\n",
      "|    |    └─BatchNorm2d: 3-18            [-1, 256, 56, 56]         512\n",
      "|    |    └─ReLU: 3-19                   [-1, 256, 56, 56]         --\n",
      "|    └─Bottleneck: 2-3                   [-1, 256, 56, 56]         --\n",
      "|    |    └─Conv2d: 3-20                 [-1, 64, 56, 56]          16,384\n",
      "|    |    └─BatchNorm2d: 3-21            [-1, 64, 56, 56]          128\n",
      "|    |    └─ReLU: 3-22                   [-1, 64, 56, 56]          --\n",
      "|    |    └─Conv2d: 3-23                 [-1, 64, 56, 56]          36,864\n",
      "|    |    └─BatchNorm2d: 3-24            [-1, 64, 56, 56]          128\n",
      "|    |    └─ReLU: 3-25                   [-1, 64, 56, 56]          --\n",
      "|    |    └─Conv2d: 3-26                 [-1, 256, 56, 56]         16,384\n",
      "|    |    └─BatchNorm2d: 3-27            [-1, 256, 56, 56]         512\n",
      "|    |    └─ReLU: 3-28                   [-1, 256, 56, 56]         --\n",
      "├─Sequential: 1-6                        [-1, 512, 28, 28]         --\n",
      "|    └─Bottleneck: 2-4                   [-1, 512, 28, 28]         --\n",
      "|    |    └─Conv2d: 3-29                 [-1, 128, 56, 56]         32,768\n",
      "|    |    └─BatchNorm2d: 3-30            [-1, 128, 56, 56]         256\n",
      "|    |    └─ReLU: 3-31                   [-1, 128, 56, 56]         --\n",
      "|    |    └─Conv2d: 3-32                 [-1, 128, 28, 28]         147,456\n",
      "|    |    └─BatchNorm2d: 3-33            [-1, 128, 28, 28]         256\n",
      "|    |    └─ReLU: 3-34                   [-1, 128, 28, 28]         --\n",
      "|    |    └─Conv2d: 3-35                 [-1, 512, 28, 28]         65,536\n",
      "|    |    └─BatchNorm2d: 3-36            [-1, 512, 28, 28]         1,024\n",
      "|    |    └─Sequential: 3-37             [-1, 512, 28, 28]         132,096\n",
      "|    |    └─ReLU: 3-38                   [-1, 512, 28, 28]         --\n",
      "|    └─Bottleneck: 2-5                   [-1, 512, 28, 28]         --\n",
      "|    |    └─Conv2d: 3-39                 [-1, 128, 28, 28]         65,536\n",
      "|    |    └─BatchNorm2d: 3-40            [-1, 128, 28, 28]         256\n",
      "|    |    └─ReLU: 3-41                   [-1, 128, 28, 28]         --\n",
      "|    |    └─Conv2d: 3-42                 [-1, 128, 28, 28]         147,456\n",
      "|    |    └─BatchNorm2d: 3-43            [-1, 128, 28, 28]         256\n",
      "|    |    └─ReLU: 3-44                   [-1, 128, 28, 28]         --\n",
      "|    |    └─Conv2d: 3-45                 [-1, 512, 28, 28]         65,536\n",
      "|    |    └─BatchNorm2d: 3-46            [-1, 512, 28, 28]         1,024\n",
      "|    |    └─ReLU: 3-47                   [-1, 512, 28, 28]         --\n",
      "|    └─Bottleneck: 2-6                   [-1, 512, 28, 28]         --\n",
      "|    |    └─Conv2d: 3-48                 [-1, 128, 28, 28]         65,536\n",
      "|    |    └─BatchNorm2d: 3-49            [-1, 128, 28, 28]         256\n",
      "|    |    └─ReLU: 3-50                   [-1, 128, 28, 28]         --\n",
      "|    |    └─Conv2d: 3-51                 [-1, 128, 28, 28]         147,456\n",
      "|    |    └─BatchNorm2d: 3-52            [-1, 128, 28, 28]         256\n",
      "|    |    └─ReLU: 3-53                   [-1, 128, 28, 28]         --\n",
      "|    |    └─Conv2d: 3-54                 [-1, 512, 28, 28]         65,536\n",
      "|    |    └─BatchNorm2d: 3-55            [-1, 512, 28, 28]         1,024\n",
      "|    |    └─ReLU: 3-56                   [-1, 512, 28, 28]         --\n",
      "|    └─Bottleneck: 2-7                   [-1, 512, 28, 28]         --\n",
      "|    |    └─Conv2d: 3-57                 [-1, 128, 28, 28]         65,536\n",
      "|    |    └─BatchNorm2d: 3-58            [-1, 128, 28, 28]         256\n",
      "|    |    └─ReLU: 3-59                   [-1, 128, 28, 28]         --\n",
      "|    |    └─Conv2d: 3-60                 [-1, 128, 28, 28]         147,456\n",
      "|    |    └─BatchNorm2d: 3-61            [-1, 128, 28, 28]         256\n",
      "|    |    └─ReLU: 3-62                   [-1, 128, 28, 28]         --\n",
      "|    |    └─Conv2d: 3-63                 [-1, 512, 28, 28]         65,536\n",
      "|    |    └─BatchNorm2d: 3-64            [-1, 512, 28, 28]         1,024\n",
      "|    |    └─ReLU: 3-65                   [-1, 512, 28, 28]         --\n",
      "├─Sequential: 1-7                        [-1, 1024, 14, 14]        --\n",
      "|    └─Bottleneck: 2-8                   [-1, 1024, 14, 14]        --\n",
      "|    |    └─Conv2d: 3-66                 [-1, 256, 28, 28]         131,072\n",
      "|    |    └─BatchNorm2d: 3-67            [-1, 256, 28, 28]         512\n",
      "|    |    └─ReLU: 3-68                   [-1, 256, 28, 28]         --\n",
      "|    |    └─Conv2d: 3-69                 [-1, 256, 14, 14]         589,824\n",
      "|    |    └─BatchNorm2d: 3-70            [-1, 256, 14, 14]         512\n",
      "|    |    └─ReLU: 3-71                   [-1, 256, 14, 14]         --\n",
      "|    |    └─Conv2d: 3-72                 [-1, 1024, 14, 14]        262,144\n",
      "|    |    └─BatchNorm2d: 3-73            [-1, 1024, 14, 14]        2,048\n",
      "|    |    └─Sequential: 3-74             [-1, 1024, 14, 14]        526,336\n",
      "|    |    └─ReLU: 3-75                   [-1, 1024, 14, 14]        --\n",
      "|    └─Bottleneck: 2-9                   [-1, 1024, 14, 14]        --\n",
      "|    |    └─Conv2d: 3-76                 [-1, 256, 14, 14]         262,144\n",
      "|    |    └─BatchNorm2d: 3-77            [-1, 256, 14, 14]         512\n",
      "|    |    └─ReLU: 3-78                   [-1, 256, 14, 14]         --\n",
      "|    |    └─Conv2d: 3-79                 [-1, 256, 14, 14]         589,824\n",
      "|    |    └─BatchNorm2d: 3-80            [-1, 256, 14, 14]         512\n",
      "|    |    └─ReLU: 3-81                   [-1, 256, 14, 14]         --\n",
      "|    |    └─Conv2d: 3-82                 [-1, 1024, 14, 14]        262,144\n",
      "|    |    └─BatchNorm2d: 3-83            [-1, 1024, 14, 14]        2,048\n",
      "|    |    └─ReLU: 3-84                   [-1, 1024, 14, 14]        --\n",
      "|    └─Bottleneck: 2-10                  [-1, 1024, 14, 14]        --\n",
      "|    |    └─Conv2d: 3-85                 [-1, 256, 14, 14]         262,144\n",
      "|    |    └─BatchNorm2d: 3-86            [-1, 256, 14, 14]         512\n",
      "|    |    └─ReLU: 3-87                   [-1, 256, 14, 14]         --\n",
      "|    |    └─Conv2d: 3-88                 [-1, 256, 14, 14]         589,824\n",
      "|    |    └─BatchNorm2d: 3-89            [-1, 256, 14, 14]         512\n",
      "|    |    └─ReLU: 3-90                   [-1, 256, 14, 14]         --\n",
      "|    |    └─Conv2d: 3-91                 [-1, 1024, 14, 14]        262,144\n",
      "|    |    └─BatchNorm2d: 3-92            [-1, 1024, 14, 14]        2,048\n",
      "|    |    └─ReLU: 3-93                   [-1, 1024, 14, 14]        --\n",
      "|    └─Bottleneck: 2-11                  [-1, 1024, 14, 14]        --\n",
      "|    |    └─Conv2d: 3-94                 [-1, 256, 14, 14]         262,144\n",
      "|    |    └─BatchNorm2d: 3-95            [-1, 256, 14, 14]         512\n",
      "|    |    └─ReLU: 3-96                   [-1, 256, 14, 14]         --\n",
      "|    |    └─Conv2d: 3-97                 [-1, 256, 14, 14]         589,824\n",
      "|    |    └─BatchNorm2d: 3-98            [-1, 256, 14, 14]         512\n",
      "|    |    └─ReLU: 3-99                   [-1, 256, 14, 14]         --\n",
      "|    |    └─Conv2d: 3-100                [-1, 1024, 14, 14]        262,144\n",
      "|    |    └─BatchNorm2d: 3-101           [-1, 1024, 14, 14]        2,048\n",
      "|    |    └─ReLU: 3-102                  [-1, 1024, 14, 14]        --\n",
      "|    └─Bottleneck: 2-12                  [-1, 1024, 14, 14]        --\n",
      "|    |    └─Conv2d: 3-103                [-1, 256, 14, 14]         262,144\n",
      "|    |    └─BatchNorm2d: 3-104           [-1, 256, 14, 14]         512\n",
      "|    |    └─ReLU: 3-105                  [-1, 256, 14, 14]         --\n",
      "|    |    └─Conv2d: 3-106                [-1, 256, 14, 14]         589,824\n",
      "|    |    └─BatchNorm2d: 3-107           [-1, 256, 14, 14]         512\n",
      "|    |    └─ReLU: 3-108                  [-1, 256, 14, 14]         --\n",
      "|    |    └─Conv2d: 3-109                [-1, 1024, 14, 14]        262,144\n",
      "|    |    └─BatchNorm2d: 3-110           [-1, 1024, 14, 14]        2,048\n",
      "|    |    └─ReLU: 3-111                  [-1, 1024, 14, 14]        --\n",
      "|    └─Bottleneck: 2-13                  [-1, 1024, 14, 14]        --\n",
      "|    |    └─Conv2d: 3-112                [-1, 256, 14, 14]         262,144\n",
      "|    |    └─BatchNorm2d: 3-113           [-1, 256, 14, 14]         512\n",
      "|    |    └─ReLU: 3-114                  [-1, 256, 14, 14]         --\n",
      "|    |    └─Conv2d: 3-115                [-1, 256, 14, 14]         589,824\n",
      "|    |    └─BatchNorm2d: 3-116           [-1, 256, 14, 14]         512\n",
      "|    |    └─ReLU: 3-117                  [-1, 256, 14, 14]         --\n",
      "|    |    └─Conv2d: 3-118                [-1, 1024, 14, 14]        262,144\n",
      "|    |    └─BatchNorm2d: 3-119           [-1, 1024, 14, 14]        2,048\n",
      "|    |    └─ReLU: 3-120                  [-1, 1024, 14, 14]        --\n",
      "├─Sequential: 1-8                        [-1, 2048, 7, 7]          --\n",
      "|    └─Bottleneck: 2-14                  [-1, 2048, 7, 7]          --\n",
      "|    |    └─Conv2d: 3-121                [-1, 512, 14, 14]         524,288\n",
      "|    |    └─BatchNorm2d: 3-122           [-1, 512, 14, 14]         1,024\n",
      "|    |    └─ReLU: 3-123                  [-1, 512, 14, 14]         --\n",
      "|    |    └─Conv2d: 3-124                [-1, 512, 7, 7]           2,359,296\n",
      "|    |    └─BatchNorm2d: 3-125           [-1, 512, 7, 7]           1,024\n",
      "|    |    └─ReLU: 3-126                  [-1, 512, 7, 7]           --\n",
      "|    |    └─Conv2d: 3-127                [-1, 2048, 7, 7]          1,048,576\n",
      "|    |    └─BatchNorm2d: 3-128           [-1, 2048, 7, 7]          4,096\n",
      "|    |    └─Sequential: 3-129            [-1, 2048, 7, 7]          2,101,248\n",
      "|    |    └─ReLU: 3-130                  [-1, 2048, 7, 7]          --\n",
      "|    └─Bottleneck: 2-15                  [-1, 2048, 7, 7]          --\n",
      "|    |    └─Conv2d: 3-131                [-1, 512, 7, 7]           1,048,576\n",
      "|    |    └─BatchNorm2d: 3-132           [-1, 512, 7, 7]           1,024\n",
      "|    |    └─ReLU: 3-133                  [-1, 512, 7, 7]           --\n",
      "|    |    └─Conv2d: 3-134                [-1, 512, 7, 7]           2,359,296\n",
      "|    |    └─BatchNorm2d: 3-135           [-1, 512, 7, 7]           1,024\n",
      "|    |    └─ReLU: 3-136                  [-1, 512, 7, 7]           --\n",
      "|    |    └─Conv2d: 3-137                [-1, 2048, 7, 7]          1,048,576\n",
      "|    |    └─BatchNorm2d: 3-138           [-1, 2048, 7, 7]          4,096\n",
      "|    |    └─ReLU: 3-139                  [-1, 2048, 7, 7]          --\n",
      "|    └─Bottleneck: 2-16                  [-1, 2048, 7, 7]          --\n",
      "|    |    └─Conv2d: 3-140                [-1, 512, 7, 7]           1,048,576\n",
      "|    |    └─BatchNorm2d: 3-141           [-1, 512, 7, 7]           1,024\n",
      "|    |    └─ReLU: 3-142                  [-1, 512, 7, 7]           --\n",
      "|    |    └─Conv2d: 3-143                [-1, 512, 7, 7]           2,359,296\n",
      "|    |    └─BatchNorm2d: 3-144           [-1, 512, 7, 7]           1,024\n",
      "|    |    └─ReLU: 3-145                  [-1, 512, 7, 7]           --\n",
      "|    |    └─Conv2d: 3-146                [-1, 2048, 7, 7]          1,048,576\n",
      "|    |    └─BatchNorm2d: 3-147           [-1, 2048, 7, 7]          4,096\n",
      "|    |    └─ReLU: 3-148                  [-1, 2048, 7, 7]          --\n",
      "├─AdaptiveAvgPool2d: 1-9                 [-1, 2048, 1, 1]          --\n",
      "├─Sequential: 1-10                       [-1, 2]                   --\n",
      "|    └─Linear: 2-17                      [-1, 1024]                2,098,176\n",
      "|    └─ReLU: 2-18                        [-1, 1024]                --\n",
      "|    └─Dropout: 2-19                     [-1, 1024]                --\n",
      "|    └─Linear: 2-20                      [-1, 512]                 524,800\n",
      "|    └─ReLU: 2-21                        [-1, 512]                 --\n",
      "|    └─Dropout: 2-22                     [-1, 512]                 --\n",
      "|    └─Linear: 2-23                      [-1, 2]                   1,026\n",
      "==========================================================================================\n",
      "Total params: 26,132,034\n",
      "Trainable params: 26,132,034\n",
      "Non-trainable params: 0\n",
      "Total mult-adds (G): 4.14\n",
      "==========================================================================================\n",
      "Input size (MB): 0.57\n",
      "Forward/backward pass size (MB): 169.60\n",
      "Params size (MB): 99.69\n",
      "Estimated Total Size (MB): 269.86\n",
      "==========================================================================================\n"
     ]
    },
    {
     "data": {
      "text/plain": [
       "==========================================================================================\n",
       "Layer (type:depth-idx)                   Output Shape              Param #\n",
       "==========================================================================================\n",
       "├─Conv2d: 1-1                            [-1, 64, 112, 112]        9,408\n",
       "├─BatchNorm2d: 1-2                       [-1, 64, 112, 112]        128\n",
       "├─ReLU: 1-3                              [-1, 64, 112, 112]        --\n",
       "├─MaxPool2d: 1-4                         [-1, 64, 56, 56]          --\n",
       "├─Sequential: 1-5                        [-1, 256, 56, 56]         --\n",
       "|    └─Bottleneck: 2-1                   [-1, 256, 56, 56]         --\n",
       "|    |    └─Conv2d: 3-1                  [-1, 64, 56, 56]          4,096\n",
       "|    |    └─BatchNorm2d: 3-2             [-1, 64, 56, 56]          128\n",
       "|    |    └─ReLU: 3-3                    [-1, 64, 56, 56]          --\n",
       "|    |    └─Conv2d: 3-4                  [-1, 64, 56, 56]          36,864\n",
       "|    |    └─BatchNorm2d: 3-5             [-1, 64, 56, 56]          128\n",
       "|    |    └─ReLU: 3-6                    [-1, 64, 56, 56]          --\n",
       "|    |    └─Conv2d: 3-7                  [-1, 256, 56, 56]         16,384\n",
       "|    |    └─BatchNorm2d: 3-8             [-1, 256, 56, 56]         512\n",
       "|    |    └─Sequential: 3-9              [-1, 256, 56, 56]         16,896\n",
       "|    |    └─ReLU: 3-10                   [-1, 256, 56, 56]         --\n",
       "|    └─Bottleneck: 2-2                   [-1, 256, 56, 56]         --\n",
       "|    |    └─Conv2d: 3-11                 [-1, 64, 56, 56]          16,384\n",
       "|    |    └─BatchNorm2d: 3-12            [-1, 64, 56, 56]          128\n",
       "|    |    └─ReLU: 3-13                   [-1, 64, 56, 56]          --\n",
       "|    |    └─Conv2d: 3-14                 [-1, 64, 56, 56]          36,864\n",
       "|    |    └─BatchNorm2d: 3-15            [-1, 64, 56, 56]          128\n",
       "|    |    └─ReLU: 3-16                   [-1, 64, 56, 56]          --\n",
       "|    |    └─Conv2d: 3-17                 [-1, 256, 56, 56]         16,384\n",
       "|    |    └─BatchNorm2d: 3-18            [-1, 256, 56, 56]         512\n",
       "|    |    └─ReLU: 3-19                   [-1, 256, 56, 56]         --\n",
       "|    └─Bottleneck: 2-3                   [-1, 256, 56, 56]         --\n",
       "|    |    └─Conv2d: 3-20                 [-1, 64, 56, 56]          16,384\n",
       "|    |    └─BatchNorm2d: 3-21            [-1, 64, 56, 56]          128\n",
       "|    |    └─ReLU: 3-22                   [-1, 64, 56, 56]          --\n",
       "|    |    └─Conv2d: 3-23                 [-1, 64, 56, 56]          36,864\n",
       "|    |    └─BatchNorm2d: 3-24            [-1, 64, 56, 56]          128\n",
       "|    |    └─ReLU: 3-25                   [-1, 64, 56, 56]          --\n",
       "|    |    └─Conv2d: 3-26                 [-1, 256, 56, 56]         16,384\n",
       "|    |    └─BatchNorm2d: 3-27            [-1, 256, 56, 56]         512\n",
       "|    |    └─ReLU: 3-28                   [-1, 256, 56, 56]         --\n",
       "├─Sequential: 1-6                        [-1, 512, 28, 28]         --\n",
       "|    └─Bottleneck: 2-4                   [-1, 512, 28, 28]         --\n",
       "|    |    └─Conv2d: 3-29                 [-1, 128, 56, 56]         32,768\n",
       "|    |    └─BatchNorm2d: 3-30            [-1, 128, 56, 56]         256\n",
       "|    |    └─ReLU: 3-31                   [-1, 128, 56, 56]         --\n",
       "|    |    └─Conv2d: 3-32                 [-1, 128, 28, 28]         147,456\n",
       "|    |    └─BatchNorm2d: 3-33            [-1, 128, 28, 28]         256\n",
       "|    |    └─ReLU: 3-34                   [-1, 128, 28, 28]         --\n",
       "|    |    └─Conv2d: 3-35                 [-1, 512, 28, 28]         65,536\n",
       "|    |    └─BatchNorm2d: 3-36            [-1, 512, 28, 28]         1,024\n",
       "|    |    └─Sequential: 3-37             [-1, 512, 28, 28]         132,096\n",
       "|    |    └─ReLU: 3-38                   [-1, 512, 28, 28]         --\n",
       "|    └─Bottleneck: 2-5                   [-1, 512, 28, 28]         --\n",
       "|    |    └─Conv2d: 3-39                 [-1, 128, 28, 28]         65,536\n",
       "|    |    └─BatchNorm2d: 3-40            [-1, 128, 28, 28]         256\n",
       "|    |    └─ReLU: 3-41                   [-1, 128, 28, 28]         --\n",
       "|    |    └─Conv2d: 3-42                 [-1, 128, 28, 28]         147,456\n",
       "|    |    └─BatchNorm2d: 3-43            [-1, 128, 28, 28]         256\n",
       "|    |    └─ReLU: 3-44                   [-1, 128, 28, 28]         --\n",
       "|    |    └─Conv2d: 3-45                 [-1, 512, 28, 28]         65,536\n",
       "|    |    └─BatchNorm2d: 3-46            [-1, 512, 28, 28]         1,024\n",
       "|    |    └─ReLU: 3-47                   [-1, 512, 28, 28]         --\n",
       "|    └─Bottleneck: 2-6                   [-1, 512, 28, 28]         --\n",
       "|    |    └─Conv2d: 3-48                 [-1, 128, 28, 28]         65,536\n",
       "|    |    └─BatchNorm2d: 3-49            [-1, 128, 28, 28]         256\n",
       "|    |    └─ReLU: 3-50                   [-1, 128, 28, 28]         --\n",
       "|    |    └─Conv2d: 3-51                 [-1, 128, 28, 28]         147,456\n",
       "|    |    └─BatchNorm2d: 3-52            [-1, 128, 28, 28]         256\n",
       "|    |    └─ReLU: 3-53                   [-1, 128, 28, 28]         --\n",
       "|    |    └─Conv2d: 3-54                 [-1, 512, 28, 28]         65,536\n",
       "|    |    └─BatchNorm2d: 3-55            [-1, 512, 28, 28]         1,024\n",
       "|    |    └─ReLU: 3-56                   [-1, 512, 28, 28]         --\n",
       "|    └─Bottleneck: 2-7                   [-1, 512, 28, 28]         --\n",
       "|    |    └─Conv2d: 3-57                 [-1, 128, 28, 28]         65,536\n",
       "|    |    └─BatchNorm2d: 3-58            [-1, 128, 28, 28]         256\n",
       "|    |    └─ReLU: 3-59                   [-1, 128, 28, 28]         --\n",
       "|    |    └─Conv2d: 3-60                 [-1, 128, 28, 28]         147,456\n",
       "|    |    └─BatchNorm2d: 3-61            [-1, 128, 28, 28]         256\n",
       "|    |    └─ReLU: 3-62                   [-1, 128, 28, 28]         --\n",
       "|    |    └─Conv2d: 3-63                 [-1, 512, 28, 28]         65,536\n",
       "|    |    └─BatchNorm2d: 3-64            [-1, 512, 28, 28]         1,024\n",
       "|    |    └─ReLU: 3-65                   [-1, 512, 28, 28]         --\n",
       "├─Sequential: 1-7                        [-1, 1024, 14, 14]        --\n",
       "|    └─Bottleneck: 2-8                   [-1, 1024, 14, 14]        --\n",
       "|    |    └─Conv2d: 3-66                 [-1, 256, 28, 28]         131,072\n",
       "|    |    └─BatchNorm2d: 3-67            [-1, 256, 28, 28]         512\n",
       "|    |    └─ReLU: 3-68                   [-1, 256, 28, 28]         --\n",
       "|    |    └─Conv2d: 3-69                 [-1, 256, 14, 14]         589,824\n",
       "|    |    └─BatchNorm2d: 3-70            [-1, 256, 14, 14]         512\n",
       "|    |    └─ReLU: 3-71                   [-1, 256, 14, 14]         --\n",
       "|    |    └─Conv2d: 3-72                 [-1, 1024, 14, 14]        262,144\n",
       "|    |    └─BatchNorm2d: 3-73            [-1, 1024, 14, 14]        2,048\n",
       "|    |    └─Sequential: 3-74             [-1, 1024, 14, 14]        526,336\n",
       "|    |    └─ReLU: 3-75                   [-1, 1024, 14, 14]        --\n",
       "|    └─Bottleneck: 2-9                   [-1, 1024, 14, 14]        --\n",
       "|    |    └─Conv2d: 3-76                 [-1, 256, 14, 14]         262,144\n",
       "|    |    └─BatchNorm2d: 3-77            [-1, 256, 14, 14]         512\n",
       "|    |    └─ReLU: 3-78                   [-1, 256, 14, 14]         --\n",
       "|    |    └─Conv2d: 3-79                 [-1, 256, 14, 14]         589,824\n",
       "|    |    └─BatchNorm2d: 3-80            [-1, 256, 14, 14]         512\n",
       "|    |    └─ReLU: 3-81                   [-1, 256, 14, 14]         --\n",
       "|    |    └─Conv2d: 3-82                 [-1, 1024, 14, 14]        262,144\n",
       "|    |    └─BatchNorm2d: 3-83            [-1, 1024, 14, 14]        2,048\n",
       "|    |    └─ReLU: 3-84                   [-1, 1024, 14, 14]        --\n",
       "|    └─Bottleneck: 2-10                  [-1, 1024, 14, 14]        --\n",
       "|    |    └─Conv2d: 3-85                 [-1, 256, 14, 14]         262,144\n",
       "|    |    └─BatchNorm2d: 3-86            [-1, 256, 14, 14]         512\n",
       "|    |    └─ReLU: 3-87                   [-1, 256, 14, 14]         --\n",
       "|    |    └─Conv2d: 3-88                 [-1, 256, 14, 14]         589,824\n",
       "|    |    └─BatchNorm2d: 3-89            [-1, 256, 14, 14]         512\n",
       "|    |    └─ReLU: 3-90                   [-1, 256, 14, 14]         --\n",
       "|    |    └─Conv2d: 3-91                 [-1, 1024, 14, 14]        262,144\n",
       "|    |    └─BatchNorm2d: 3-92            [-1, 1024, 14, 14]        2,048\n",
       "|    |    └─ReLU: 3-93                   [-1, 1024, 14, 14]        --\n",
       "|    └─Bottleneck: 2-11                  [-1, 1024, 14, 14]        --\n",
       "|    |    └─Conv2d: 3-94                 [-1, 256, 14, 14]         262,144\n",
       "|    |    └─BatchNorm2d: 3-95            [-1, 256, 14, 14]         512\n",
       "|    |    └─ReLU: 3-96                   [-1, 256, 14, 14]         --\n",
       "|    |    └─Conv2d: 3-97                 [-1, 256, 14, 14]         589,824\n",
       "|    |    └─BatchNorm2d: 3-98            [-1, 256, 14, 14]         512\n",
       "|    |    └─ReLU: 3-99                   [-1, 256, 14, 14]         --\n",
       "|    |    └─Conv2d: 3-100                [-1, 1024, 14, 14]        262,144\n",
       "|    |    └─BatchNorm2d: 3-101           [-1, 1024, 14, 14]        2,048\n",
       "|    |    └─ReLU: 3-102                  [-1, 1024, 14, 14]        --\n",
       "|    └─Bottleneck: 2-12                  [-1, 1024, 14, 14]        --\n",
       "|    |    └─Conv2d: 3-103                [-1, 256, 14, 14]         262,144\n",
       "|    |    └─BatchNorm2d: 3-104           [-1, 256, 14, 14]         512\n",
       "|    |    └─ReLU: 3-105                  [-1, 256, 14, 14]         --\n",
       "|    |    └─Conv2d: 3-106                [-1, 256, 14, 14]         589,824\n",
       "|    |    └─BatchNorm2d: 3-107           [-1, 256, 14, 14]         512\n",
       "|    |    └─ReLU: 3-108                  [-1, 256, 14, 14]         --\n",
       "|    |    └─Conv2d: 3-109                [-1, 1024, 14, 14]        262,144\n",
       "|    |    └─BatchNorm2d: 3-110           [-1, 1024, 14, 14]        2,048\n",
       "|    |    └─ReLU: 3-111                  [-1, 1024, 14, 14]        --\n",
       "|    └─Bottleneck: 2-13                  [-1, 1024, 14, 14]        --\n",
       "|    |    └─Conv2d: 3-112                [-1, 256, 14, 14]         262,144\n",
       "|    |    └─BatchNorm2d: 3-113           [-1, 256, 14, 14]         512\n",
       "|    |    └─ReLU: 3-114                  [-1, 256, 14, 14]         --\n",
       "|    |    └─Conv2d: 3-115                [-1, 256, 14, 14]         589,824\n",
       "|    |    └─BatchNorm2d: 3-116           [-1, 256, 14, 14]         512\n",
       "|    |    └─ReLU: 3-117                  [-1, 256, 14, 14]         --\n",
       "|    |    └─Conv2d: 3-118                [-1, 1024, 14, 14]        262,144\n",
       "|    |    └─BatchNorm2d: 3-119           [-1, 1024, 14, 14]        2,048\n",
       "|    |    └─ReLU: 3-120                  [-1, 1024, 14, 14]        --\n",
       "├─Sequential: 1-8                        [-1, 2048, 7, 7]          --\n",
       "|    └─Bottleneck: 2-14                  [-1, 2048, 7, 7]          --\n",
       "|    |    └─Conv2d: 3-121                [-1, 512, 14, 14]         524,288\n",
       "|    |    └─BatchNorm2d: 3-122           [-1, 512, 14, 14]         1,024\n",
       "|    |    └─ReLU: 3-123                  [-1, 512, 14, 14]         --\n",
       "|    |    └─Conv2d: 3-124                [-1, 512, 7, 7]           2,359,296\n",
       "|    |    └─BatchNorm2d: 3-125           [-1, 512, 7, 7]           1,024\n",
       "|    |    └─ReLU: 3-126                  [-1, 512, 7, 7]           --\n",
       "|    |    └─Conv2d: 3-127                [-1, 2048, 7, 7]          1,048,576\n",
       "|    |    └─BatchNorm2d: 3-128           [-1, 2048, 7, 7]          4,096\n",
       "|    |    └─Sequential: 3-129            [-1, 2048, 7, 7]          2,101,248\n",
       "|    |    └─ReLU: 3-130                  [-1, 2048, 7, 7]          --\n",
       "|    └─Bottleneck: 2-15                  [-1, 2048, 7, 7]          --\n",
       "|    |    └─Conv2d: 3-131                [-1, 512, 7, 7]           1,048,576\n",
       "|    |    └─BatchNorm2d: 3-132           [-1, 512, 7, 7]           1,024\n",
       "|    |    └─ReLU: 3-133                  [-1, 512, 7, 7]           --\n",
       "|    |    └─Conv2d: 3-134                [-1, 512, 7, 7]           2,359,296\n",
       "|    |    └─BatchNorm2d: 3-135           [-1, 512, 7, 7]           1,024\n",
       "|    |    └─ReLU: 3-136                  [-1, 512, 7, 7]           --\n",
       "|    |    └─Conv2d: 3-137                [-1, 2048, 7, 7]          1,048,576\n",
       "|    |    └─BatchNorm2d: 3-138           [-1, 2048, 7, 7]          4,096\n",
       "|    |    └─ReLU: 3-139                  [-1, 2048, 7, 7]          --\n",
       "|    └─Bottleneck: 2-16                  [-1, 2048, 7, 7]          --\n",
       "|    |    └─Conv2d: 3-140                [-1, 512, 7, 7]           1,048,576\n",
       "|    |    └─BatchNorm2d: 3-141           [-1, 512, 7, 7]           1,024\n",
       "|    |    └─ReLU: 3-142                  [-1, 512, 7, 7]           --\n",
       "|    |    └─Conv2d: 3-143                [-1, 512, 7, 7]           2,359,296\n",
       "|    |    └─BatchNorm2d: 3-144           [-1, 512, 7, 7]           1,024\n",
       "|    |    └─ReLU: 3-145                  [-1, 512, 7, 7]           --\n",
       "|    |    └─Conv2d: 3-146                [-1, 2048, 7, 7]          1,048,576\n",
       "|    |    └─BatchNorm2d: 3-147           [-1, 2048, 7, 7]          4,096\n",
       "|    |    └─ReLU: 3-148                  [-1, 2048, 7, 7]          --\n",
       "├─AdaptiveAvgPool2d: 1-9                 [-1, 2048, 1, 1]          --\n",
       "├─Sequential: 1-10                       [-1, 2]                   --\n",
       "|    └─Linear: 2-17                      [-1, 1024]                2,098,176\n",
       "|    └─ReLU: 2-18                        [-1, 1024]                --\n",
       "|    └─Dropout: 2-19                     [-1, 1024]                --\n",
       "|    └─Linear: 2-20                      [-1, 512]                 524,800\n",
       "|    └─ReLU: 2-21                        [-1, 512]                 --\n",
       "|    └─Dropout: 2-22                     [-1, 512]                 --\n",
       "|    └─Linear: 2-23                      [-1, 2]                   1,026\n",
       "==========================================================================================\n",
       "Total params: 26,132,034\n",
       "Trainable params: 26,132,034\n",
       "Non-trainable params: 0\n",
       "Total mult-adds (G): 4.14\n",
       "==========================================================================================\n",
       "Input size (MB): 0.57\n",
       "Forward/backward pass size (MB): 169.60\n",
       "Params size (MB): 99.69\n",
       "Estimated Total Size (MB): 269.86\n",
       "=========================================================================================="
      ]
     },
     "execution_count": 5,
     "metadata": {},
     "output_type": "execute_result"
    }
   ],
   "source": [
    "model = ResNetplusCNN(weights='IMAGENET1K_V2')\n",
    "\n",
    "device = torch.device(\"cuda\" if torch.cuda.is_available() else \"cpu\")\n",
    "model = model.to(device)"
>>>>>>> f38ddfbffcbadfad4655937d94d7f85ae47c633b
   ]
  },
  {
   "cell_type": "markdown",
   "id": "1163041e-7c08-4707-ad7c-440397ac7248",
   "metadata": {},
   "source": [
    "Utlis Set Up"
   ]
  },
  {
   "cell_type": "code",
<<<<<<< HEAD
   "execution_count": 66,
=======
   "execution_count": 6,
>>>>>>> f38ddfbffcbadfad4655937d94d7f85ae47c633b
   "id": "227dede3-ce5b-428b-94a7-42064068af95",
   "metadata": {},
   "outputs": [],
   "source": [
    "def train_epoch(model, train_loader, criterion, optimizer, device, epoch, num_epochs, total_step):\n",
    "    model.train()\n",
    "    running_loss = 0.0\n",
    "\n",
    "    for i, (images, labels) in enumerate(train_loader):  \n",
    "        # Move tensors to the configured device\n",
    "        images = images.to(device)\n",
    "        labels = labels.to(device)\n",
    "        \n",
    "        # Forward pass\n",
    "        outputs = model(images)\n",
    "        if isinstance(outputs, tuple):\n",
    "            outputs = outputs[0]\n",
    "        \n",
    "        loss = criterion(outputs, labels)\n",
    "        running_loss += loss.item()\n",
    "        \n",
    "        # Backward and optimize\n",
    "        optimizer.zero_grad()\n",
    "        loss.backward()\n",
    "        optimizer.step()\n",
    "\n",
    "        # Print training statistics\n",
    "        if (i+1) % 100 == 0 or (i+1) == len(train_loader):\n",
    "            print ('Epoch [{}/{}], Step [{}/{}], Train Loss: {:.4f}' \n",
    "                   .format(epoch+1, num_epochs, i+1, total_step, running_loss / (i+1)))\n",
    "    \n",
    "    avg_loss = running_loss / total_step\n",
    "    return avg_loss"
   ]
  },
  {
   "cell_type": "code",
<<<<<<< HEAD
   "execution_count": 67,
=======
   "execution_count": 7,
>>>>>>> f38ddfbffcbadfad4655937d94d7f85ae47c633b
   "id": "1ecf1642-b47d-431d-a751-ad1524c655f0",
   "metadata": {},
   "outputs": [],
   "source": [
    "def evaluate_model(model, data_loader, criterion, device, dataset_type='Validation'):\n",
    "    model.eval() \n",
    "    with torch.no_grad():\n",
    "        correct = 0\n",
    "        total = len(data_loader.dataset)\n",
    "        total_loss = 0 \n",
    "        for images, labels in data_loader:\n",
    "            images = images.to(device)\n",
    "            labels = labels.to(device)\n",
    "            outputs = model(images)\n",
    "\n",
    "            loss = criterion(outputs, labels) \n",
    "            total_loss += loss.item()\n",
    "\n",
    "            _, predicted = torch.max(outputs.data, 1)\n",
    "            correct += (predicted == labels).sum().item()\n",
    "            del images, labels, outputs\n",
    "        \n",
    "        avg_loss = total_loss / len(data_loader)\n",
    "        accuracy = 100 * correct / total\n",
    "        print(f'{dataset_type} Accuracy: {accuracy:.2f}% | {dataset_type} Loss: {avg_loss:.4f}')\n",
    "        return avg_loss, accuracy "
   ]
  },
  {
   "cell_type": "code",
<<<<<<< HEAD
   "execution_count": 68,
=======
   "execution_count": 8,
>>>>>>> f38ddfbffcbadfad4655937d94d7f85ae47c633b
   "id": "ac89427f-d52a-4e40-b506-928fe5772c27",
   "metadata": {},
   "outputs": [],
   "source": [
    "def checkpoint_and_early_stopping(avg_val_loss, model, best_val_loss, patience, counter, path='best_model_CNN+ResNet50.pth'):\n",
    "    if avg_val_loss < best_val_loss:\n",
    "        best_val_loss = avg_val_loss\n",
    "        counter = 0\n",
    "        torch.save(model.state_dict(), path)\n",
    "        print(f\"New best model saved with validation loss: {avg_val_loss:.4f}\")\n",
    "\n",
    "    else:\n",
    "        counter += 1\n",
    "        if counter >= patience:\n",
    "            print(\"Early stopping\")\n",
    "            return True, best_val_loss, counter\n",
    "\n",
    "    return False, best_val_loss, counter"
   ]
  },
  {
   "cell_type": "code",
<<<<<<< HEAD
   "execution_count": 69,
=======
   "execution_count": 9,
>>>>>>> f38ddfbffcbadfad4655937d94d7f85ae47c633b
   "id": "6421aabb-e95b-483f-9446-a0e12774c17a",
   "metadata": {},
   "outputs": [],
   "source": [
    "def load_best_model(model, path='best_model_CNN+ResNet50.pth'):\n",
    "    model.load_state_dict(torch.load(path))\n",
    "    print(\"Best model loaded from\", path)"
   ]
  },
  {
   "cell_type": "markdown",
   "id": "5632a994-aeb7-48f0-8e07-55b6e670a3a8",
   "metadata": {},
   "source": [
    "Train Model"
   ]
  },
  {
   "cell_type": "code",
<<<<<<< HEAD
   "execution_count": 70,
=======
   "execution_count": 10,
>>>>>>> f38ddfbffcbadfad4655937d94d7f85ae47c633b
   "id": "1c06723f-8dd8-4aed-a211-9f1ed898359e",
   "metadata": {},
   "outputs": [],
   "source": [
    "num_epochs = 10\n",
<<<<<<< HEAD
    "patience = 5\n",
=======
    "patience = 3\n",
>>>>>>> f38ddfbffcbadfad4655937d94d7f85ae47c633b
    "best_val_loss = float('inf')\n",
    "counter = 0\n",
    "learning_rate= 1e-3\n",
    "train_losses = []\n",
<<<<<<< HEAD
    "val_losses = []\n",
    "val_accuracies = []"
=======
    "val_losses = []"
>>>>>>> f38ddfbffcbadfad4655937d94d7f85ae47c633b
   ]
  },
  {
   "cell_type": "code",
<<<<<<< HEAD
   "execution_count": 71,
=======
   "execution_count": 11,
>>>>>>> f38ddfbffcbadfad4655937d94d7f85ae47c633b
   "id": "c46edcf4-065d-4f07-842d-9d41acc9f2c3",
   "metadata": {},
   "outputs": [],
   "source": [
    "# Define loss and optimizer\n",
    "criterion = nn.CrossEntropyLoss()\n",
<<<<<<< HEAD
    "optimizer = torch.optim.AdamW(model.parameters(), lr=learning_rate)\n",
=======
    "optimizer = torch.optim.Adam(filter(lambda p: p.requires_grad, model.parameters()), lr=learning_rate)\n",
    "\n",
>>>>>>> f38ddfbffcbadfad4655937d94d7f85ae47c633b
    "# Train the model\n",
    "total_step = len(train_dl)"
   ]
  },
  {
   "cell_type": "code",
<<<<<<< HEAD
   "execution_count": 72,
=======
   "execution_count": 15,
>>>>>>> f38ddfbffcbadfad4655937d94d7f85ae47c633b
   "id": "660de81b-279d-4740-bc3e-4ea25890ba78",
   "metadata": {},
   "outputs": [
    {
     "name": "stdout",
     "output_type": "stream",
     "text": [
<<<<<<< HEAD
      "Epoch [1/10], Step [8/8], Train Loss: 0.5946\n",
      "Validation Accuracy: 65.30% | Validation Loss: 5.0013\n",
      "New best model saved with validation loss: 5.0013\n",
      "########################################\n",
      "Epoch [2/10], Step [8/8], Train Loss: 0.4105\n",
      "Validation Accuracy: 67.60% | Validation Loss: 1.0173\n",
      "New best model saved with validation loss: 1.0173\n",
      "########################################\n",
      "Epoch [3/10], Step [8/8], Train Loss: 0.2513\n",
      "Validation Accuracy: 87.80% | Validation Loss: 0.3969\n",
      "New best model saved with validation loss: 0.3969\n",
      "########################################\n",
      "Epoch [4/10], Step [8/8], Train Loss: 0.1590\n",
      "Validation Accuracy: 88.30% | Validation Loss: 0.4568\n",
      "########################################\n",
      "Epoch [5/10], Step [8/8], Train Loss: 0.1321\n",
      "Validation Accuracy: 87.00% | Validation Loss: 0.5895\n",
      "########################################\n",
      "Epoch [6/10], Step [8/8], Train Loss: 0.0888\n",
      "Validation Accuracy: 95.50% | Validation Loss: 0.1588\n",
      "New best model saved with validation loss: 0.1588\n",
      "########################################\n",
      "Epoch [7/10], Step [8/8], Train Loss: 0.0603\n",
      "Validation Accuracy: 94.20% | Validation Loss: 0.2457\n",
      "########################################\n",
      "Epoch [8/10], Step [8/8], Train Loss: 0.1060\n",
      "Validation Accuracy: 98.00% | Validation Loss: 0.0625\n",
      "New best model saved with validation loss: 0.0625\n",
      "########################################\n",
      "Epoch [9/10], Step [8/8], Train Loss: 0.0491\n",
      "Validation Accuracy: 99.10% | Validation Loss: 0.0343\n",
      "New best model saved with validation loss: 0.0343\n",
      "########################################\n",
      "Epoch [10/10], Step [8/8], Train Loss: 0.0473\n",
      "Validation Accuracy: 91.60% | Validation Loss: 0.5134\n",
      "########################################\n"
=======
      "Epoch [1/10], Step [8/8], Train Loss: 0.6441\n",
      "Validation Accuracy: 54.40% | Validation Loss: 1.3221\n",
      "New best model saved with validation loss: 1.3221\n",
      "########################################\n",
      "Epoch [2/10], Step [8/8], Train Loss: 0.3314\n",
      "Validation Accuracy: 84.30% | Validation Loss: 1.9879\n",
      "########################################\n",
      "Epoch [3/10], Step [8/8], Train Loss: 0.2270\n",
      "Validation Accuracy: 88.20% | Validation Loss: 1.8040\n",
      "########################################\n",
      "Epoch [4/10], Step [8/8], Train Loss: 0.1604\n",
      "Validation Accuracy: 90.50% | Validation Loss: 0.3220\n",
      "New best model saved with validation loss: 0.3220\n",
      "########################################\n",
      "Epoch [5/10], Step [8/8], Train Loss: 0.1609\n",
      "Validation Accuracy: 83.80% | Validation Loss: 0.6048\n",
      "########################################\n",
      "Epoch [6/10], Step [8/8], Train Loss: 0.1247\n",
      "Validation Accuracy: 92.10% | Validation Loss: 0.2271\n",
      "New best model saved with validation loss: 0.2271\n",
      "########################################\n",
      "Epoch [7/10], Step [8/8], Train Loss: 0.0624\n",
      "Validation Accuracy: 95.50% | Validation Loss: 0.1321\n",
      "New best model saved with validation loss: 0.1321\n",
      "########################################\n",
      "Epoch [8/10], Step [8/8], Train Loss: 0.0710\n",
      "Validation Accuracy: 95.70% | Validation Loss: 0.1524\n",
      "########################################\n",
      "Epoch [9/10], Step [8/8], Train Loss: 0.0758\n",
      "Validation Accuracy: 95.80% | Validation Loss: 0.1421\n",
      "########################################\n",
      "Epoch [10/10], Step [8/8], Train Loss: 0.0384\n",
      "Validation Accuracy: 91.30% | Validation Loss: 0.3716\n",
      "Early stopping\n"
>>>>>>> f38ddfbffcbadfad4655937d94d7f85ae47c633b
     ]
    }
   ],
   "source": [
    "for epoch in range(num_epochs):\n",
    "    avg_train_loss = train_epoch(model, train_dl, criterion, optimizer, device, epoch, num_epochs, total_step)\n",
    "    train_losses.append(avg_train_loss)\n",
    "    \n",
<<<<<<< HEAD
    "    avg_val_loss, val_acc = evaluate_model(model, val_dl, criterion, device)\n",
    "    val_losses.append(avg_val_loss)\n",
    "    val_accuracies.append(val_acc)\n",
=======
    "    avg_val_loss, _ = evaluate_model(model, val_dl, criterion, device)\n",
    "    val_losses.append(avg_val_loss)\n",
>>>>>>> f38ddfbffcbadfad4655937d94d7f85ae47c633b
    "    \n",
    "    early_stop, best_val_loss, counter = checkpoint_and_early_stopping(avg_val_loss, model, best_val_loss, patience, counter)\n",
    "    if early_stop:\n",
    "        break\n",
    "        \n",
    "    print('##'*20)"
   ]
  },
  {
   "cell_type": "code",
<<<<<<< HEAD
   "execution_count": 73,
   "id": "7e38563e-0099-49e7-b311-26cf10da79e8",
   "metadata": {},
   "outputs": [
    {
     "data": {
      "image/png": "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",
      "text/plain": [
       "<Figure size 1200x600 with 2 Axes>"
      ]
     },
     "metadata": {},
     "output_type": "display_data"
    },
    {
     "name": "stdout",
     "output_type": "stream",
     "text": [
      "Training plot saved to: training_plot_CNNRestNetV3.png\n"
     ]
    }
   ],
   "source": [
    "save_path='training_plot_CNNRestNetV3.png'\n",
    "\n",
    "# Plotting\n",
    "plt.figure(figsize=(12, 6))\n",
    "\n",
    "# Loss vs Epochs\n",
    "plt.subplot(1, 2, 1)\n",
    "plt.plot(range(1, len(train_losses) + 1), train_losses, label='Train Loss')\n",
    "plt.plot(range(1, len(val_losses) + 1), val_losses, label='Validation Loss')\n",
    "plt.xlabel(\"Epochs\")\n",
    "plt.ylabel(\"Loss\")\n",
    "plt.title(\"Loss vs. Epochs\")\n",
    "plt.legend()\n",
    "\n",
    "# Accuracy vs Epochs\n",
    "plt.subplot(1, 2, 2)\n",
    "plt.plot(range(1, len(val_accuracies) + 1), val_accuracies, label='Validation Accuracy', color='green')\n",
    "plt.xlabel(\"Epochs\")\n",
    "plt.ylabel(\"Accuracy (%)\")\n",
    "plt.title(\"Accuracy vs. Epochs\")\n",
    "plt.legend()\n",
    "\n",
    "plt.tight_layout()\n",
    "plt.savefig(save_path)\n",
    "plt.show()\n",
    "print(f\"Training plot saved to: {save_path}\")"
=======
   "execution_count": null,
   "id": "7e38563e-0099-49e7-b311-26cf10da79e8",
   "metadata": {},
   "outputs": [],
   "source": [
    "# Plotting the training and validation losses\n",
    "plt.figure(figsize=(10, 5))\n",
    "plt.plot(train_losses, label='Training Loss')\n",
    "plt.plot(val_losses, label='Validation Loss')\n",
    "plt.xlabel('Epochs')\n",
    "plt.ylabel('Loss')\n",
    "plt.legend()\n",
    "plt.title('Training and Validation Losses')\n",
    "plt.show()"
>>>>>>> f38ddfbffcbadfad4655937d94d7f85ae47c633b
   ]
  },
  {
   "cell_type": "code",
<<<<<<< HEAD
   "execution_count": 74,
=======
   "execution_count": 12,
>>>>>>> f38ddfbffcbadfad4655937d94d7f85ae47c633b
   "id": "9c17df6e-e753-4498-8f38-87d732b81efb",
   "metadata": {},
   "outputs": [
    {
     "name": "stdout",
     "output_type": "stream",
     "text": [
      "Best model loaded from best_model_CNN+ResNet50.pth\n"
     ]
    }
   ],
   "source": [
    "# Load the best model checkpoint after training\n",
    "load_best_model(model)"
   ]
  },
  {
   "cell_type": "markdown",
   "id": "c602026f-00c3-4562-9df5-bb46995f5321",
   "metadata": {},
   "source": [
    "Evaluation Model"
   ]
  },
  {
   "cell_type": "code",
<<<<<<< HEAD
   "execution_count": 75,
=======
   "execution_count": 14,
>>>>>>> f38ddfbffcbadfad4655937d94d7f85ae47c633b
   "id": "741486dd-cf57-49c6-87d4-3a83259ac8de",
   "metadata": {},
   "outputs": [
    {
     "name": "stdout",
     "output_type": "stream",
     "text": [
<<<<<<< HEAD
      "Validation Accuracy: 98.20% | Validation Loss: 0.0444\n",
      "Test Accuracy: 98.40% | Test Loss: 0.0461\n"
=======
      "Validation Accuracy: 96.00% | Validation Loss: 0.1057\n",
      "Test Accuracy: 96.53% | Test Loss: 0.1093\n"
>>>>>>> f38ddfbffcbadfad4655937d94d7f85ae47c633b
     ]
    }
   ],
   "source": [
    "## Model Evaluate On Test \n",
    "val_loss, val_accuracy = evaluate_model(model, val_dl, criterion, device)\n",
    "test_loss, test_accuracy = evaluate_model(model, test_dl, criterion, device, dataset_type='Test')"
   ]
  },
  {
   "cell_type": "code",
<<<<<<< HEAD
   "execution_count": 76,
=======
   "execution_count": 18,
>>>>>>> f38ddfbffcbadfad4655937d94d7f85ae47c633b
   "id": "515e308e-44db-4474-95e6-2245d65b9f50",
   "metadata": {},
   "outputs": [],
   "source": [
    "from sklearn.metrics import confusion_matrix, ConfusionMatrixDisplay\n",
    "\n",
    "def evaluate_and_confusion_matrix(model, test_loader, criterion, device):\n",
    "    model.eval()  # Set the model to evaluation mode\n",
    "    all_preds = []\n",
    "    all_labels = []\n",
    "    \n",
    "    with torch.no_grad():\n",
    "        for images, labels in test_loader:\n",
    "            images = images.to(device)\n",
    "            labels = labels.to(device)\n",
    "            outputs = model(images)\n",
    "            \n",
    "            _, predicted = torch.max(outputs.data, 1)\n",
    "            all_preds.extend(predicted.cpu().numpy())\n",
    "            all_labels.extend(labels.cpu().numpy())\n",
    "    \n",
    "    # Calculate confusion matrix\n",
    "    cm = confusion_matrix(all_labels, all_preds)\n",
    "    disp = ConfusionMatrixDisplay(confusion_matrix=cm, display_labels=['Drowsy', 'Non Drowsy'])\n",
    "    \n",
    "    # Plot confusion matrix\n",
    "    disp.plot(cmap=plt.cm.Blues)\n",
    "    plt.show()"
   ]
  },
  {
   "cell_type": "code",
<<<<<<< HEAD
   "execution_count": 77,
=======
   "execution_count": 19,
>>>>>>> f38ddfbffcbadfad4655937d94d7f85ae47c633b
   "id": "b1543fe6-ab53-4cc7-b5aa-20cf33667772",
   "metadata": {},
   "outputs": [
    {
     "data": {
<<<<<<< HEAD
      "image/png": "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",
=======
      "image/png": "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",
>>>>>>> f38ddfbffcbadfad4655937d94d7f85ae47c633b
      "text/plain": [
       "<Figure size 640x480 with 2 Axes>"
      ]
     },
     "metadata": {},
     "output_type": "display_data"
    }
   ],
   "source": [
    "evaluate_and_confusion_matrix(model, test_dl, criterion, device)"
   ]
<<<<<<< HEAD
=======
  },
  {
   "cell_type": "code",
   "execution_count": null,
   "id": "e67b22ca-0e36-4bbc-8967-e10c39f95f63",
   "metadata": {},
   "outputs": [],
   "source": []
>>>>>>> f38ddfbffcbadfad4655937d94d7f85ae47c633b
  }
 ],
 "metadata": {
  "kernelspec": {
<<<<<<< HEAD
   "display_name": "DL",
=======
   "display_name": "Python 3 (ipykernel)",
>>>>>>> f38ddfbffcbadfad4655937d94d7f85ae47c633b
   "language": "python",
   "name": "python3"
  },
  "language_info": {
   "codemirror_mode": {
    "name": "ipython",
    "version": 3
   },
   "file_extension": ".py",
   "mimetype": "text/x-python",
   "name": "python",
   "nbconvert_exporter": "python",
   "pygments_lexer": "ipython3",
<<<<<<< HEAD
   "version": "3.12.9"
=======
   "version": "3.12.7"
>>>>>>> f38ddfbffcbadfad4655937d94d7f85ae47c633b
  }
 },
 "nbformat": 4,
 "nbformat_minor": 5
}
